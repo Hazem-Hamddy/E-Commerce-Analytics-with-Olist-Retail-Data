{
 "cells": [
  {
   "cell_type": "markdown",
   "id": "f4988620",
   "metadata": {},
   "source": [
    "## Importing libiraries"
   ]
  },
  {
   "cell_type": "code",
   "execution_count": null,
   "id": "d3bc35b0",
   "metadata": {},
   "outputs": [],
   "source": [
    "# Core data analysis libraries\n",
    "import pandas as pd\n",
    "import numpy as np\n",
    "\n",
    "# Visualization libraries\n",
    "import matplotlib.pyplot as plt\n",
    "import seaborn as sns\n",
    "\n",
    "# For date and time operations\n",
    "from datetime import datetime\n",
    "\n",
    "# For file path handling (optional but clean)\n",
    "import os\n",
    "\n",
    "# Visualization settings\n",
    "sns.set(style=\"whitegrid\")\n",
    "plt.style.use('seaborn-v0_8')\n",
    "\n",
    "# Suppress warnings for cleaner output (optional)\n",
    "import warnings\n",
    "warnings.filterwarnings('ignore')\n"
   ]
  },
  {
   "cell_type": "markdown",
   "id": "f4515ca8",
   "metadata": {},
   "source": [
    "## Reading Data"
   ]
  },
  {
   "cell_type": "code",
   "execution_count": null,
   "id": "54e6b5bb",
   "metadata": {},
   "outputs": [],
   "source": [
    "# Define the path to your dataset folder\n",
    "DATA_PATH = 'D:\\Projects\\E-Commerce Analytics with Olist Retail Data'  # Change this to your local path\n",
    "\n",
    "# Load datasets into DataFrames\n",
    "orders_df = pd.read_csv(os.path.join(DATA_PATH, 'olist_orders_dataset.csv'))\n",
    "order_items_df = pd.read_csv(os.path.join(DATA_PATH, 'olist_order_items_dataset.csv'))\n",
    "products_df = pd.read_csv(os.path.join(DATA_PATH, 'olist_products_dataset.csv'))\n",
    "category_translation_df = pd.read_csv(os.path.join(DATA_PATH, 'product_category_name_translation.csv'))\n",
    "order_payments_df = pd.read_csv(os.path.join(DATA_PATH, 'olist_order_payments_dataset.csv'))\n",
    "customers_df = pd.read_csv(os.path.join(DATA_PATH, 'olist_customers_dataset.csv'))\n",
    "sellers_df = pd.read_csv(os.path.join(DATA_PATH, 'olist_sellers_dataset.csv'))\n"
   ]
  },
  {
   "cell_type": "code",
   "execution_count": null,
   "id": "7762c4b3",
   "metadata": {},
   "outputs": [],
   "source": [
    "# Display first few rows to confirm loading\n",
    "print(\"Orders:\\n\", orders_df.head(), \"\\n\")\n",
    "print(\"Order Items:\\n\", order_items_df.head(), \"\\n\")\n",
    "print(\"Products:\\n\", products_df.head(), \"\\n\")\n",
    "print(\"Category Translations:\\n\", category_translation_df.head(), \"\\n\")\n",
    "print(\"Payments:\\n\", order_payments_df.head(), \"\\n\")\n",
    "print(\"Customers:\\n\", customers_df.head(), \"\\n\")\n",
    "print(\"Sellers:\\n\", sellers_df.head(), \"\\n\")\n"
   ]
  },
  {
   "cell_type": "markdown",
   "id": "88688615",
   "metadata": {},
   "source": [
    "## orders.csv – Order Status & Timeline Analysis\n"
   ]
  },
  {
   "cell_type": "code",
   "execution_count": null,
   "id": "67f8b3f9",
   "metadata": {},
   "outputs": [],
   "source": [
    "# Convert relevant date columns to datetime format\n",
    "orders_df['order_purchase_timestamp'] = pd.to_datetime(orders_df['order_purchase_timestamp'])\n",
    "orders_df['order_delivered_customer_date'] = pd.to_datetime(orders_df['order_delivered_customer_date'])\n",
    "orders_df['order_estimated_delivery_date'] = pd.to_datetime(orders_df['order_estimated_delivery_date'])\n"
   ]
  },
  {
   "cell_type": "code",
   "execution_count": null,
   "id": "022eb93e",
   "metadata": {},
   "outputs": [],
   "source": [
    "plt.figure(figsize=(10, 6))\n",
    "sns.countplot(data=orders_df, y='order_status', order=orders_df['order_status'].value_counts().index, palette='Blues_d')\n",
    "plt.title('Distribution of Order Statuses')\n",
    "plt.xlabel('Count')\n",
    "plt.ylabel('Order Status')\n",
    "plt.tight_layout()\n",
    "plt.show()\n"
   ]
  },
  {
   "cell_type": "code",
   "execution_count": null,
   "id": "44dd8002",
   "metadata": {},
   "outputs": [],
   "source": [
    "# Create new column for year-month\n",
    "orders_df['order_month'] = orders_df['order_purchase_timestamp'].dt.to_period('M')\n",
    "\n",
    "# Group by month and count orders\n",
    "monthly_orders = orders_df.groupby('order_month').size().reset_index(name='order_count')\n",
    "\n",
    "# Convert Period to datetime for plotting\n",
    "monthly_orders['order_month'] = monthly_orders['order_month'].dt.to_timestamp()\n",
    "\n",
    "# Plot trend\n",
    "plt.figure(figsize=(12, 6))\n",
    "sns.lineplot(data=monthly_orders, x='order_month', y='order_count', marker='o')\n",
    "plt.title('Monthly Order Volume Over Time')\n",
    "plt.xlabel('Month')\n",
    "plt.ylabel('Number of Orders')\n",
    "plt.xticks(rotation=45)\n",
    "plt.tight_layout()\n",
    "plt.show()\n"
   ]
  },
  {
   "cell_type": "code",
   "execution_count": null,
   "id": "c43b3c66",
   "metadata": {},
   "outputs": [],
   "source": [
    "# Filter for only delivered orders\n",
    "delivered_orders = orders_df[orders_df['order_status'] == 'delivered'].copy()\n",
    "\n",
    "# Calculate delivery delay in days (actual - estimated)\n",
    "delivered_orders['delivery_delay_days'] = (\n",
    "    delivered_orders['order_delivered_customer_date'] - delivered_orders['order_estimated_delivery_date']\n",
    ").dt.days\n",
    "\n",
    "# Create a boolean column indicating whether the delivery was late\n",
    "delivered_orders['is_late'] = delivered_orders['delivery_delay_days'] > 0\n",
    "\n",
    "# Create a month column from order purchase date\n",
    "delivered_orders['order_month'] = delivered_orders['order_purchase_timestamp'].dt.to_period('M')\n",
    "\n",
    "# Group by month and count how many orders were late\n",
    "monthly_late_deliveries = (\n",
    "    delivered_orders[delivered_orders['is_late']]\n",
    "    .groupby('order_month')\n",
    "    .size()\n",
    "    .reset_index(name='late_deliveries_count')\n",
    ")\n",
    "\n",
    "# Convert 'order_month' back to timestamp for plotting\n",
    "monthly_late_deliveries['order_month'] = monthly_late_deliveries['order_month'].dt.to_timestamp()\n",
    "\n",
    "# Plot the trend of late deliveries per month\n",
    "plt.figure(figsize=(12, 6))\n",
    "sns.lineplot(data=monthly_late_deliveries, x='order_month', y='late_deliveries_count', marker='o', color='red')\n",
    "plt.title('Monthly Late Deliveries Count (Actual > Estimated Delivery Date)')\n",
    "plt.xlabel('Month')\n",
    "plt.ylabel('Number of Late Deliveries')\n",
    "plt.xticks(rotation=45)\n",
    "plt.tight_layout()\n",
    "plt.show()\n"
   ]
  },
  {
   "cell_type": "markdown",
   "id": "2ab14dc1",
   "metadata": {},
   "source": [
    "## order_items.csv – Revenue & Product-Level Analysis\n"
   ]
  },
  {
   "cell_type": "code",
   "execution_count": null,
   "id": "853febc6",
   "metadata": {},
   "outputs": [],
   "source": [
    "# Calculate total sales value per product (price * item count)\n",
    "product_sales = order_items_df.groupby('product_id')['price'].sum().reset_index(name='total_sales')\n",
    "\n",
    "# Sort to find top-selling products\n",
    "top_products = product_sales.sort_values(by='total_sales', ascending=False).head(10)\n"
   ]
  },
  {
   "cell_type": "code",
   "execution_count": null,
   "id": "8394b317",
   "metadata": {},
   "outputs": [],
   "source": [
    "# Plot a horizontal bar chart for the top 10 revenue-generating products\n",
    "plt.figure(figsize=(12, 6))\n",
    "sns.barplot(data=top_products, x='total_sales', y='product_id', palette='viridis')\n",
    "plt.title('Top 10 Products by Revenue')\n",
    "plt.xlabel('Total Revenue')\n",
    "plt.ylabel('Product ID')\n",
    "plt.tight_layout()\n",
    "plt.show()\n"
   ]
  },
  {
   "cell_type": "code",
   "execution_count": null,
   "id": "330e3ddf",
   "metadata": {},
   "outputs": [],
   "source": [
    "# Plot a histogram of freight_value to show the distribution of shipping costs\n",
    "plt.figure(figsize=(10, 6))\n",
    "sns.histplot(order_items_df['freight_value'], bins=40, color='orange', kde=True)\n",
    "plt.title('Distribution of Shipping Costs (Freight Value)')\n",
    "plt.xlabel('Shipping Cost')\n",
    "plt.ylabel('Frequency')\n",
    "plt.tight_layout()\n",
    "plt.show()\n"
   ]
  },
  {
   "cell_type": "code",
   "execution_count": null,
   "id": "15373b8e",
   "metadata": {},
   "outputs": [],
   "source": [
    "# Merge order_items with orders to bring in the order_purchase_timestamp\n",
    "order_items_merged = pd.merge(order_items_df, orders_df[['order_id', 'order_purchase_timestamp']], on='order_id', how='left')\n",
    "\n",
    "# Convert order_purchase_timestamp to period (month) to group by month\n",
    "order_items_merged['order_month'] = order_items_merged['order_purchase_timestamp'].dt.to_period('M')\n",
    "\n",
    "# Group by month and calculate total revenue (sum of price)\n",
    "monthly_revenue = order_items_merged.groupby('order_month')['price'].sum().reset_index()\n",
    "\n",
    "# Convert month period back to timestamp for plotting\n",
    "monthly_revenue['order_month'] = monthly_revenue['order_month'].dt.to_timestamp()\n",
    "\n",
    "# Plot a line chart of monthly revenue trend\n",
    "plt.figure(figsize=(12, 6))\n",
    "sns.lineplot(data=monthly_revenue, x='order_month', y='price', marker='o', color='blue')\n",
    "plt.title('Monthly Revenue Trend')\n",
    "plt.xlabel('Month')\n",
    "plt.ylabel('Total Revenue')\n",
    "plt.xticks(rotation=45)\n",
    "plt.tight_layout()\n",
    "plt.show()\n"
   ]
  },
  {
   "cell_type": "markdown",
   "id": "4488baa5",
   "metadata": {},
   "source": [
    "## products.csv + product_category_name_translation.csv – Category-Level Product Analysis\n"
   ]
  },
  {
   "cell_type": "code",
   "execution_count": null,
   "id": "06691658",
   "metadata": {},
   "outputs": [],
   "source": [
    "# Merge products with category name translations to get English category names\n",
    "products_merged = pd.merge(products_df, category_translation_df, on='product_category_name', how='left')\n"
   ]
  },
  {
   "cell_type": "code",
   "execution_count": null,
   "id": "c8256fad",
   "metadata": {},
   "outputs": [],
   "source": [
    "# Merge with order_items to get sales info per product and category\n",
    "product_orders = pd.merge(order_items_df, products_merged[['product_id', 'product_category_name_english']], on='product_id', how='left')\n",
    "\n",
    "# Group by product category and sum the total price to get total revenue per category\n",
    "category_sales = product_orders.groupby('product_category_name_english')['price'].sum().reset_index(name='total_revenue')\n",
    "\n",
    "# Sort to get top 10 revenue-generating categories\n",
    "top_categories = category_sales.sort_values(by='total_revenue', ascending=False).head(10)\n"
   ]
  },
  {
   "cell_type": "code",
   "execution_count": null,
   "id": "4e4d60f2",
   "metadata": {},
   "outputs": [],
   "source": [
    "# Plot a bar chart of the top 10 product categories by revenue\n",
    "plt.figure(figsize=(12, 6))\n",
    "sns.barplot(data=top_categories, x='total_revenue', y='product_category_name_english', palette='cubehelix')\n",
    "plt.title('Top 10 Product Categories by Revenue')\n",
    "plt.xlabel('Total Revenue')\n",
    "plt.ylabel('Product Category')\n",
    "plt.tight_layout()\n",
    "plt.show()\n"
   ]
  },
  {
   "cell_type": "code",
   "execution_count": null,
   "id": "08255b97",
   "metadata": {},
   "outputs": [],
   "source": [
    "# Merge product weight and price for scatter plot\n",
    "product_details = pd.merge(order_items_df[['product_id', 'price']], products_merged[['product_id', 'product_weight_g']], on='product_id', how='left')\n",
    "\n",
    "# Drop rows with missing values\n",
    "product_details = product_details.dropna()\n",
    "\n",
    "# Plot scatter: product weight vs price\n",
    "plt.figure(figsize=(10, 6))\n",
    "sns.scatterplot(data=product_details, x='product_weight_g', y='price', alpha=0.6)\n",
    "plt.title('Product Weight vs Price')\n",
    "plt.xlabel('Product Weight (g)')\n",
    "plt.ylabel('Price')\n",
    "plt.tight_layout()\n",
    "plt.show()\n"
   ]
  },
  {
   "cell_type": "markdown",
   "id": "9523efa0",
   "metadata": {},
   "source": [
    "## order_payments.csv – Payment Types & Installment Analysis\n"
   ]
  },
  {
   "cell_type": "code",
   "execution_count": null,
   "id": "2a5346e0",
   "metadata": {},
   "outputs": [],
   "source": [
    "# Count how many times each payment type was used\n",
    "payment_counts = order_payments_df['payment_type'].value_counts().reset_index()\n",
    "payment_counts.columns = ['payment_type', 'count']\n"
   ]
  },
  {
   "cell_type": "code",
   "execution_count": null,
   "id": "6ec3d7e7",
   "metadata": {},
   "outputs": [],
   "source": [
    "# Plot a bar chart of how often each payment type was used\n",
    "plt.figure(figsize=(8, 6))\n",
    "sns.barplot(data=payment_counts, x='count', y='payment_type', palette='pastel')\n",
    "plt.title('Payment Type Distribution')\n",
    "plt.xlabel('Count')\n",
    "plt.ylabel('Payment Type')\n",
    "plt.tight_layout()\n",
    "plt.show()\n"
   ]
  },
  {
   "cell_type": "code",
   "execution_count": null,
   "id": "714dd68b",
   "metadata": {},
   "outputs": [],
   "source": [
    "# Plot a histogram to show how many customers used how many installments\n",
    "plt.figure(figsize=(10, 6))\n",
    "sns.histplot(order_payments_df['payment_installments'], bins=15, color='purple', kde=False)\n",
    "plt.title('Distribution of Payment Installments')\n",
    "plt.xlabel('Number of Installments')\n",
    "plt.ylabel('Number of Payments')\n",
    "plt.tight_layout()\n",
    "plt.show()\n"
   ]
  },
  {
   "cell_type": "code",
   "execution_count": null,
   "id": "ba9848cb",
   "metadata": {},
   "outputs": [],
   "source": [
    "# Group by installment count and calculate average payment value\n",
    "installment_avg = order_payments_df.groupby('payment_installments')['payment_value'].mean().reset_index()\n",
    "\n",
    "# Plot average payment value for each installment option\n",
    "plt.figure(figsize=(10, 6))\n",
    "sns.lineplot(data=installment_avg, x='payment_installments', y='payment_value', marker='o')\n",
    "plt.title('Average Payment Value by Installment Count')\n",
    "plt.xlabel('Installment Count')\n",
    "plt.ylabel('Average Payment Value')\n",
    "plt.tight_layout()\n",
    "plt.show()\n"
   ]
  },
  {
   "cell_type": "markdown",
   "id": "28a34d4a",
   "metadata": {},
   "source": [
    "## customers.csv – Customer Behavior & Regional Order Trends\n"
   ]
  },
  {
   "cell_type": "code",
   "execution_count": null,
   "id": "3e5d6011",
   "metadata": {},
   "outputs": [],
   "source": [
    "# Merge customer data with orders to analyze order trends by location\n",
    "customers_orders = pd.merge(orders_df, customers_df, on='customer_id', how='left')\n",
    "\n",
    "# Count number of orders per customer state\n",
    "state_orders = customers_orders['customer_state'].value_counts().reset_index()\n",
    "state_orders.columns = ['customer_state', 'order_count']\n",
    "\n"
   ]
  },
  {
   "cell_type": "code",
   "execution_count": null,
   "id": "bac9316d",
   "metadata": {},
   "outputs": [],
   "source": [
    "# Select top 10 states for visualization\n",
    "top_states = state_orders.head(10)\n",
    "\n",
    "# Plot a horizontal bar chart\n",
    "plt.figure(figsize=(10, 6))\n",
    "sns.barplot(data=top_states, x='order_count', y='customer_state', palette='crest')\n",
    "plt.title('Top 10 Customer States by Order Volume')\n",
    "plt.xlabel('Number of Orders')\n",
    "plt.ylabel('State')\n",
    "plt.tight_layout()\n",
    "plt.show()\n"
   ]
  },
  {
   "cell_type": "code",
   "execution_count": null,
   "id": "f83884d6",
   "metadata": {},
   "outputs": [],
   "source": [
    "# Create month column from order timestamp\n",
    "customers_orders['order_month'] = customers_orders['order_purchase_timestamp'].dt.to_period('M')\n",
    "\n",
    "# Select top 3 states by number of orders\n",
    "top_3_states = state_orders.head(3)['customer_state'].tolist()\n",
    "\n",
    "# Filter for just those states\n",
    "filtered_states = customers_orders[customers_orders['customer_state'].isin(top_3_states)]\n",
    "\n",
    "# Group by state and month\n",
    "monthly_state_orders = (\n",
    "    filtered_states\n",
    "    .groupby(['order_month', 'customer_state'])\n",
    "    .size()\n",
    "    .reset_index(name='order_count')\n",
    ")\n",
    "monthly_state_orders['order_month'] = monthly_state_orders['order_month'].dt.to_timestamp()\n",
    "\n",
    "# Plot line chart\n",
    "plt.figure(figsize=(12, 6))\n",
    "sns.lineplot(data=monthly_state_orders, x='order_month', y='order_count', hue='customer_state', marker='o')\n",
    "plt.title('Monthly Order Trends for Top 3 States')\n",
    "plt.xlabel('Month')\n",
    "plt.ylabel('Order Count')\n",
    "plt.xticks(rotation=45)\n",
    "plt.legend(title='State')\n",
    "plt.tight_layout()\n",
    "plt.show()\n"
   ]
  },
  {
   "cell_type": "markdown",
   "id": "1ac9e54d",
   "metadata": {},
   "source": [
    "## sellers.csv – Seller Performance & Location-Based Sales\n"
   ]
  },
  {
   "cell_type": "code",
   "execution_count": null,
   "id": "1c083651",
   "metadata": {},
   "outputs": [],
   "source": [
    "# Merge seller info into order_items to analyze seller sales\n",
    "sellers_merged = pd.merge(order_items_df, sellers_df, on='seller_id', how='left')\n",
    "\n",
    "# Group by seller_id and sum the total price (sales revenue)\n",
    "seller_revenue = sellers_merged.groupby('seller_id')['price'].sum().reset_index(name='total_revenue')\n",
    "\n",
    "# Sort and get top 10 sellers\n",
    "top_sellers = seller_revenue.sort_values(by='total_revenue', ascending=False).head(10)\n",
    "\n"
   ]
  },
  {
   "cell_type": "code",
   "execution_count": null,
   "id": "368fa86c",
   "metadata": {},
   "outputs": [],
   "source": [
    "# Plot a horizontal bar chart for top 10 revenue-generating sellers\n",
    "plt.figure(figsize=(12, 6))\n",
    "sns.barplot(data=top_sellers, x='total_revenue', y='seller_id', palette='flare')\n",
    "plt.title('Top 10 Sellers by Total Revenue')\n",
    "plt.xlabel('Total Revenue')\n",
    "plt.ylabel('Seller ID')\n",
    "plt.tight_layout()\n",
    "plt.show()\n"
   ]
  },
  {
   "cell_type": "code",
   "execution_count": null,
   "id": "a2bfecf2",
   "metadata": {},
   "outputs": [],
   "source": [
    "# Count how many sellers are in each state\n",
    "seller_state_counts = sellers_df['seller_state'].value_counts().reset_index()\n",
    "seller_state_counts.columns = ['seller_state', 'seller_count']\n"
   ]
  },
  {
   "cell_type": "code",
   "execution_count": null,
   "id": "55f9c25a",
   "metadata": {},
   "outputs": [],
   "source": [
    "# Get top 10 seller states\n",
    "top_seller_states = seller_state_counts.head(10)\n",
    "\n",
    "# Plot the bar chart\n",
    "plt.figure(figsize=(10, 6))\n",
    "sns.barplot(data=top_seller_states, x='seller_count', y='seller_state', palette='mako')\n",
    "plt.title('Top 10 States by Number of Sellers')\n",
    "plt.xlabel('Number of Sellers')\n",
    "plt.ylabel('State')\n",
    "plt.tight_layout()\n",
    "plt.show()\n"
   ]
  },
  {
   "cell_type": "markdown",
   "id": "852418e3",
   "metadata": {},
   "source": [
    "## Combined Trend Analysis – Orders, Revenue & Payments Over Time\n"
   ]
  },
  {
   "cell_type": "code",
   "execution_count": null,
   "id": "f5ef18b8",
   "metadata": {},
   "outputs": [],
   "source": [
    "# Merge order_items with order dates\n",
    "items_with_date = pd.merge(order_items_df, orders_df[['order_id', 'order_purchase_timestamp']], on='order_id', how='left')\n",
    "\n",
    "# Extract month from timestamp\n",
    "items_with_date['order_month'] = items_with_date['order_purchase_timestamp'].dt.to_period('M')\n",
    "\n",
    "# Group by month and calculate average freight\n",
    "monthly_avg_freight = items_with_date.groupby('order_month')['freight_value'].mean().reset_index()\n",
    "monthly_avg_freight['order_month'] = monthly_avg_freight['order_month'].dt.to_timestamp()\n",
    "\n",
    "# Plot average freight over time\n",
    "plt.figure(figsize=(12, 6))\n",
    "sns.lineplot(data=monthly_avg_freight, x='order_month', y='freight_value', marker='o', color='darkgreen')\n",
    "plt.title('Average Shipping Cost per Month')\n",
    "plt.xlabel('Month')\n",
    "plt.ylabel('Avg. Freight Value (Shipping Cost)')\n",
    "plt.xticks(rotation=45)\n",
    "plt.tight_layout()\n",
    "plt.show()\n"
   ]
  },
  {
   "cell_type": "code",
   "execution_count": null,
   "id": "e5f2bfaf",
   "metadata": {},
   "outputs": [],
   "source": [
    "# Join order_items with orders to bring order date\n",
    "items_with_sellers = pd.merge(order_items_df[['order_id', 'seller_id']], orders_df[['order_id', 'order_purchase_timestamp']], on='order_id', how='left')\n",
    "\n",
    "# Create order_month column\n",
    "items_with_sellers['order_month'] = items_with_sellers['order_purchase_timestamp'].dt.to_period('M')\n",
    "\n",
    "# Count unique sellers per month\n",
    "monthly_seller_count = items_with_sellers.groupby('order_month')['seller_id'].nunique().reset_index(name='unique_sellers')\n",
    "monthly_seller_count['order_month'] = monthly_seller_count['order_month'].dt.to_timestamp()\n",
    "\n",
    "# Plot unique seller count over time\n",
    "plt.figure(figsize=(12, 6))\n",
    "sns.lineplot(data=monthly_seller_count, x='order_month', y='unique_sellers', marker='o', color='steelblue')\n",
    "plt.title('Number of Unique Active Sellers per Month')\n",
    "plt.xlabel('Month')\n",
    "plt.ylabel('Unique Sellers')\n",
    "plt.xticks(rotation=45)\n",
    "plt.tight_layout()\n",
    "plt.show()\n"
   ]
  },
  {
   "cell_type": "code",
   "execution_count": null,
   "id": "4eb7c28a",
   "metadata": {},
   "outputs": [],
   "source": [
    "# Merge order_items with order dates and group by order_id to get total order value\n",
    "order_value = order_items_df.groupby('order_id')['price'].sum().reset_index(name='order_total')\n",
    "order_value = pd.merge(order_value, orders_df[['order_id', 'order_purchase_timestamp']], on='order_id', how='left')\n",
    "\n",
    "# Extract month and compute monthly average order value\n",
    "order_value['order_month'] = order_value['order_purchase_timestamp'].dt.to_period('M')\n",
    "monthly_avg_order_value = order_value.groupby('order_month')['order_total'].mean().reset_index()\n",
    "monthly_avg_order_value['order_month'] = monthly_avg_order_value['order_month'].dt.to_timestamp()\n",
    "\n",
    "# Plot average order value trend\n",
    "plt.figure(figsize=(12, 6))\n",
    "sns.lineplot(data=monthly_avg_order_value, x='order_month', y='order_total', marker='o', color='darkred')\n",
    "plt.title('Average Order Value per Month')\n",
    "plt.xlabel('Month')\n",
    "plt.ylabel('Average Order Total')\n",
    "plt.xticks(rotation=45)\n",
    "plt.tight_layout()\n",
    "plt.show()\n"
   ]
  },
  {
   "cell_type": "markdown",
   "id": "2b6d939f",
   "metadata": {},
   "source": [
    "## Joined data for Tablaeu"
   ]
  },
  {
   "cell_type": "code",
   "execution_count": null,
   "id": "5e043f71",
   "metadata": {},
   "outputs": [],
   "source": [
    "# # 📦 Import Libraries\n",
    "# import pandas as pd\n",
    "\n",
    "# # 📂 Read Raw CSV Files\n",
    "# orders = pd.read_csv('olist_orders_dataset.csv', parse_dates=['order_purchase_timestamp', 'order_delivered_customer_date'])\n",
    "# order_items = pd.read_csv('olist_order_items_dataset.csv')\n",
    "# payments = pd.read_csv('olist_order_payments_dataset.csv')\n",
    "# products = pd.read_csv('olist_products_dataset.csv')\n",
    "# sellers = pd.read_csv('olist_sellers_dataset.csv')\n",
    "# customers = pd.read_csv('olist_customers_dataset.csv')\n",
    "# category_translation = pd.read_csv('product_category_name_translation.csv')\n",
    "\n",
    "# # 🧼 1. Create orders_summary.csv\n",
    "# payments = pd.read_csv('olist_order_payments_dataset.csv')\n",
    "\n",
    "# # 🔁 Merge orders with payments\n",
    "# orders_payments = orders.merge(payments, on='order_id', how='left')\n",
    "\n",
    "# # 📅 Create order_month column\n",
    "# orders_payments['order_month'] = orders_payments['order_purchase_timestamp'].dt.to_period('M').dt.to_timestamp()\n",
    "\n",
    "# # 🧮 Filter for delivered orders\n",
    "# delivered_orders = orders_payments[orders_payments['order_status'] == 'delivered'].copy()\n",
    "\n",
    "# # ⏱️ Calculate delivery delay (actual - estimated)\n",
    "# delivered_orders['delivery_delay_days'] = (\n",
    "#     delivered_orders['order_delivered_customer_date'] - delivered_orders['order_estimated_delivery_date']\n",
    "# ).dt.days\n",
    "\n",
    "# # 🚨 Create \"is_late\" flag\n",
    "# delivered_orders['is_late'] = delivered_orders['delivery_delay_days'] > 0\n",
    "\n",
    "# # 📦 Select relevant columns\n",
    "# orders_summary = delivered_orders[[\n",
    "#     'order_id',\n",
    "#     'customer_id',\n",
    "#     'order_status',\n",
    "#     'order_purchase_timestamp',\n",
    "#     'order_estimated_delivery_date',\n",
    "#     'order_delivered_customer_date',\n",
    "#     'delivery_delay_days',\n",
    "#     'is_late',\n",
    "#     'order_month',\n",
    "#     'payment_type',\n",
    "#     'payment_value'\n",
    "# ]]\n",
    "\n",
    "# # 💾 Export to CSV\n",
    "# orders_summary.to_csv('orders_summary.csv', index=False)\n",
    "\n",
    "# # 🧼 2. Create sales_summary.csv\n",
    "# # Merge order_items with orders, products, customers, and sellers\n",
    "# sales = (\n",
    "#     order_items\n",
    "#     .merge(orders[['order_id', 'order_purchase_timestamp', 'customer_id']], on='order_id', how='left')\n",
    "#     .merge(products[['product_id', 'product_category_name']], on='product_id', how='left')\n",
    "#     .merge(customers[['customer_id', 'customer_unique_id']], on='customer_id', how='left')\n",
    "#     .merge(sellers[['seller_id']], on='seller_id', how='left')\n",
    "#     .merge(category_translation, on='product_category_name', how='left')\n",
    "# )\n",
    "\n",
    "# sales['order_month'] = sales['order_purchase_timestamp'].dt.to_period('M').astype(str)\n",
    "\n",
    "# # Add total revenue per item\n",
    "# sales['item_revenue'] = sales['price'] + sales['freight_value']\n",
    "\n",
    "# sales_summary = sales[[\n",
    "#     'order_id', 'customer_unique_id', 'seller_id', 'product_category_name_english',\n",
    "#     'order_month', 'item_revenue'\n",
    "# ]]\n",
    "\n",
    "# # 📤 Export\n",
    "# sales_summary.to_csv('sales_summary.csv', index=False)\n"
   ]
  },
  {
   "cell_type": "code",
   "execution_count": null,
   "id": "25f654e1",
   "metadata": {},
   "outputs": [],
   "source": [
    "# 📦 Import Libraries\n",
    "import pandas as pd\n",
    "\n",
    "# 📂 Read Raw CSV Files\n",
    "orders = pd.read_csv('olist_orders_dataset.csv', parse_dates=['order_purchase_timestamp', 'order_delivered_customer_date', 'order_estimated_delivery_date'])\n",
    "order_items = pd.read_csv('olist_order_items_dataset.csv')\n",
    "payments = pd.read_csv('olist_order_payments_dataset.csv')\n",
    "products = pd.read_csv('olist_products_dataset.csv')\n",
    "sellers = pd.read_csv('olist_sellers_dataset.csv')\n",
    "customers = pd.read_csv('olist_customers_dataset.csv')\n",
    "category_translation = pd.read_csv('product_category_name_translation.csv')\n",
    "\n",
    "# 🧼 Process 1: Create orders_summary logic (with payments)\n",
    "orders_payments = orders.merge(payments, on='order_id', how='left')\n",
    "\n",
    "# Filter for delivered orders\n",
    "delivered_orders = orders_payments[orders_payments['order_status'] == 'delivered'].copy()\n",
    "\n",
    "# Calculate delivery delay in days\n",
    "delivered_orders['delivery_delay_days'] = (\n",
    "    delivered_orders['order_delivered_customer_date'] - delivered_orders['order_estimated_delivery_date']\n",
    ").dt.days\n",
    "\n",
    "# Create is_late column\n",
    "delivered_orders['is_late'] = delivered_orders['delivery_delay_days'] > 0\n",
    "\n",
    "# Create order_month\n",
    "delivered_orders['order_month'] = delivered_orders['order_purchase_timestamp'].dt.to_period('M').dt.to_timestamp()\n",
    "\n",
    "# 🧼 Process 2: Create sales_summary logic\n",
    "sales = (\n",
    "    order_items\n",
    "    .merge(orders[['order_id', 'order_purchase_timestamp', 'customer_id']], on='order_id', how='left')\n",
    "    .merge(products[['product_id', 'product_category_name']], on='product_id', how='left')\n",
    "    .merge(customers[['customer_id', 'customer_unique_id']], on='customer_id', how='left')\n",
    "    .merge(sellers[['seller_id']], on='seller_id', how='left')\n",
    "    .merge(category_translation, on='product_category_name', how='left')\n",
    ")\n",
    "\n",
    "# Add order_month for consistency\n",
    "sales['order_month'] = sales['order_purchase_timestamp'].dt.to_period('M').dt.to_timestamp()\n",
    "\n",
    "# Add item revenue\n",
    "sales['item_revenue'] = sales['price'] + sales['freight_value']\n",
    "\n",
    "# 🧩 Final Merge on order_id to unify both summaries\n",
    "ecommerce_dashboard = sales.merge(\n",
    "    delivered_orders[[\n",
    "        'order_id',\n",
    "        'customer_id',\n",
    "        'order_status',\n",
    "        'order_purchase_timestamp',\n",
    "        'order_estimated_delivery_date',\n",
    "        'order_delivered_customer_date',\n",
    "        'delivery_delay_days',\n",
    "        'is_late',\n",
    "        'order_month',\n",
    "        'payment_type',\n",
    "        'payment_value'\n",
    "    ]],\n",
    "    on='order_id',\n",
    "    how='left'\n",
    ")\n",
    "\n",
    "# 🧾 Final Columns for Tableau dashboard\n",
    "ecommerce_dashboard = ecommerce_dashboard[[\n",
    "    'order_id',\n",
    "    'customer_id',\n",
    "    'customer_unique_id',\n",
    "    'seller_id',\n",
    "    'order_status',\n",
    "    'order_purchase_timestamp',\n",
    "    'order_estimated_delivery_date',\n",
    "    'order_delivered_customer_date',\n",
    "    'delivery_delay_days',\n",
    "    'is_late',\n",
    "    'order_month',\n",
    "    'product_category_name_english',\n",
    "    'item_revenue',\n",
    "    'payment_type',\n",
    "    'payment_value'\n",
    "]]\n",
    "\n",
    "# 📤 Export to CSV\n",
    "ecommerce_dashboard.to_csv('ecommerce_dashboard_data.csv', index=False)\n"
   ]
  }
 ],
 "metadata": {
  "kernelspec": {
   "display_name": "Python 3",
   "language": "python",
   "name": "python3"
  },
  "language_info": {
   "codemirror_mode": {
    "name": "ipython",
    "version": 3
   },
   "file_extension": ".py",
   "mimetype": "text/x-python",
   "name": "python",
   "nbconvert_exporter": "python",
   "pygments_lexer": "ipython3",
   "version": "3.9.4"
  }
 },
 "nbformat": 4,
 "nbformat_minor": 5
}
